{
 "cells": [
  {
   "cell_type": "markdown",
   "metadata": {},
   "source": [
    "## Importing UK Postcodes into Amazon Lex to create a custom slot\n",
    "\n",
    "This is a sample notebook that shows how to use pandas together the AWS Python SDK, boto3, to process a publicly available postcode file, sample it and create/update a custom slot type in Amazon Lex using the sample to train for slot recognition. \n",
    "\n",
    "I am using the postcode file from https://www.doogal.co.uk/ukpostcodes.php, but this should work with other CSV format postcode downloads as long as you set the field header correctly.\n",
    "\n",
    "This is the header row from the file that used.\n",
    "\n",
    "```\n",
    "Postcode,In Use?,Latitude,Longitude,Easting,Northing,Grid Ref,County,District,Ward,District Code,Ward Code,Country,County Code,Constituency,Introduced,Terminated,Parish,National Park,Population,Households,Built up area,Built up sub-division,Lower layer super output area,Rural/urban,Region,Altitude,London zone,LSOA Code,Local authority,MSOA Code,Middle layer super output area,Parish Code,Census output area,Constituency Code,Index of Multiple Deprivation\n",
    "```"
   ]
  },
  {
   "cell_type": "code",
   "execution_count": 1,
   "metadata": {
    "collapsed": true
   },
   "outputs": [],
   "source": [
    "working_dir = '/Users/ianmas/aws/ai/'\n",
    "filename = \"postcodes.csv\"\n",
    "field_name = 'Postcode'\n",
    "sample_size = 1000\n",
    "\n",
    "import pandas as pd"
   ]
  },
  {
   "cell_type": "markdown",
   "metadata": {},
   "source": [
    "Load the csv into a pandas dataframe. This might take a few seconds. You will get a confirmation message with the shape of the dastaframe once it's completed. "
   ]
  },
  {
   "cell_type": "code",
   "execution_count": 4,
   "metadata": {},
   "outputs": [
    {
     "name": "stdout",
     "output_type": "stream",
     "text": [
      "Data loaded into pandas dataframe with shape: (2582173, 36)\n"
     ]
    }
   ],
   "source": [
    "df = pd.read_csv(working_dir + filename,index_col=False, header=0,low_memory=False)\n",
    "print(\"Data loaded into pandas dataframe with shape: {}\".format(df.shape))"
   ]
  },
  {
   "cell_type": "markdown",
   "metadata": {},
   "source": [
    "Extract the column with the postcodes using the ```field_name``` column defined earlier. Then extract a sample of size ```sample_size```."
   ]
  },
  {
   "cell_type": "code",
   "execution_count": 5,
   "metadata": {},
   "outputs": [
    {
     "name": "stdout",
     "output_type": "stream",
     "text": [
      "Postcode list created with 1000 samples\n"
     ]
    }
   ],
   "source": [
    "postcode_column = df[field_name]\n",
    "postcode_sample = postcode_column.sample(n=sample_size)\n",
    "\n",
    "print(\"Postcode list created with {} samples\".format(len(postcode_sample.tolist())))"
   ]
  },
  {
   "cell_type": "markdown",
   "metadata": {},
   "source": [
    "The next step is to build the list of dict objects that is required for the Amazon Lex put_slot request document. You'll see a comfirmation and few samples printed when this is complete."
   ]
  },
  {
   "cell_type": "code",
   "execution_count": 6,
   "metadata": {
    "scrolled": true
   },
   "outputs": [
    {
     "name": "stdout",
     "output_type": "stream",
     "text": [
      "The first 5 entries that will be added to your model are:\n",
      "[{'value': 'CT10 3BJ'}, {'value': 'YO25 8JL'}, {'value': 'CB10 2XY'}, {'value': 'DE73 1YE'}, {'value': 'SA67 8BE'}]\n"
     ]
    }
   ],
   "source": [
    "postcodes_values_list = []\n",
    "for postcode_value in postcode_sample:\n",
    "    new_dict = dict()\n",
    "    new_dict['value'] = postcode_value\n",
    "    postcodes_values_list.append(new_dict)\n",
    "\n",
    "print(\"The first 5 entries that will be added to your model are:\")\n",
    "print(postcodes_values_list[0:5])"
   ]
  },
  {
   "cell_type": "markdown",
   "metadata": {},
   "source": [
    "Import the AWS SDK"
   ]
  },
  {
   "cell_type": "code",
   "execution_count": 9,
   "metadata": {
    "collapsed": true
   },
   "outputs": [],
   "source": [
    "import boto3"
   ]
  },
  {
   "cell_type": "code",
   "execution_count": 10,
   "metadata": {
    "collapsed": true
   },
   "outputs": [],
   "source": [
    "lex_client = boto3.client('lex-models', region_name='us-east-1')"
   ]
  },
  {
   "cell_type": "code",
   "execution_count": 11,
   "metadata": {},
   "outputs": [
    {
     "name": "stdout",
     "output_type": "stream",
     "text": [
      "Suceeded: Updated slot 'UKPostcodes' with 1000 values\n"
     ]
    }
   ],
   "source": [
    "response = lex_client.get_slot_type(\n",
    "    name='UKPostcodes',\n",
    "    version='$LATEST'\n",
    ")\n",
    "\n",
    "# grab the checksum attribute from the response, we need it to update existing an slot type\n",
    "latest_checksum = response['checksum']\n",
    "\n",
    "response = lex_client.put_slot_type(\n",
    "    name='UKPostcodes',\n",
    "    description='UK Postcodes',\n",
    "    enumerationValues=postcodes_values_list,\n",
    "    valueSelectionStrategy='ORIGINAL_VALUE',\n",
    "    checksum=latest_checksum\n",
    ")\n",
    "\n",
    "if response['ResponseMetadata']['HTTPStatusCode'] == 200:\n",
    "    print('Suceeded: Updated slot \\'{}\\' with {} values'.format(response['name'],len(response['enumerationValues'])))\n",
    "else:\n",
    "    print('Failed with response code: {}'.format(response['ResponseMetadata']['HTTPStatusCode']))"
   ]
  },
  {
   "cell_type": "markdown",
   "metadata": {},
   "source": [
    "#### Only use this cell create the slot. Update with the cell above. \n",
    "\n",
    "Once this is done you need to use the version above that posts the checksum for the current version of the slot."
   ]
  },
  {
   "cell_type": "code",
   "execution_count": null,
   "metadata": {
    "collapsed": true
   },
   "outputs": [],
   "source": [
    "# put slot first version of slot type\n",
    "# you can only use this once because subsequent requests require a checksum attribute\n",
    "\n",
    "response = lex_client.put_slot_type(\n",
    "    name='UKPostcodes',\n",
    "    description='UK Postcodes',\n",
    "    enumerationValues=postcodes_values_list,\n",
    "    valueSelectionStrategy='ORIGINAL_VALUE'\n",
    ")\n",
    "\n",
    "if response['ResponseMetadata']['HTTPStatusCode'] == 200:\n",
    "    print('Suceeded: Updated slot \\'{}\\' with {} values'.format(response['name'],len(response['enumerationValues'])))\n",
    "else:\n",
    "    print('Failed with response code: {}'.format(response['ResponseMetadata']['HTTPStatusCode']))"
   ]
  }
 ],
 "metadata": {
  "kernelspec": {
   "display_name": "Python 3",
   "language": "python",
   "name": "python3"
  },
  "language_info": {
   "codemirror_mode": {
    "name": "ipython",
    "version": 2
   },
   "file_extension": ".py",
   "mimetype": "text/x-python",
   "name": "python",
   "nbconvert_exporter": "python",
   "pygments_lexer": "ipython2",
   "version": "2.7.14"
  }
 },
 "nbformat": 4,
 "nbformat_minor": 2
}
